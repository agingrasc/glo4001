{
 "cells": [
  {
   "cell_type": "code",
   "execution_count": 16,
   "metadata": {
    "collapsed": true
   },
   "outputs": [],
   "source": [
    "from robmob import robot as rbt\n",
    "from robmob.sensors import GyroSensor, OdometerTicksSensor\n",
    "import cv2\n",
    "import numpy as np\n",
    "\n",
    "import matplotlib.pyplot as plt\n",
    "\n",
    "import time\n",
    "from datetime import datetime\n",
    "\n",
    "import threading"
   ]
  },
  {
   "cell_type": "code",
   "execution_count": 3,
   "metadata": {},
   "outputs": [],
   "source": [
    "robot_ip = '10.248.251.93'\n",
    "robot = rbt.Robot(robot_ip)\n",
    "robot.connect()"
   ]
  },
  {
   "cell_type": "code",
   "execution_count": 22,
   "metadata": {},
   "outputs": [
    {
     "name": "stdout",
     "output_type": "stream",
     "text": [
      "{'t': 1512757504, 'x': 0.8575000000000002, 'y': 0.9625000000000001, 'z': -1.5925}\n(1512757504.5111063, -32528, 730)\n"
     ]
    }
   ],
   "source": [
    "DELTA_T = 0.1\n",
    "NUMBER_OF_STEPS = 50\n",
    "\n",
    "gyro = GyroSensor()\n",
    "robot.add_sensor(gyro)\n",
    "odometer = OdometerTicksSensor()\n",
    "robot.add_sensor(odometer)\n",
    "\n",
    "time.sleep(1)\n",
    "print(gyro.peek_data())\n",
    "print(odometer.peek_data())"
   ]
  },
  {
   "cell_type": "code",
   "execution_count": 23,
   "metadata": {},
   "outputs": [
    {
     "name": "stdout",
     "output_type": "stream",
     "text": [
      "{'t': 1512757505, 'x': 0.7612500000000002, 'y': 1.0150000000000001, 'z': -1.5312500000000002}\n(1512757505.927376, -32528, 730)\n"
     ]
    }
   ],
   "source": [
    "print(gyro.peek_data())\n",
    "print(odometer.peek_data())"
   ]
  },
  {
   "cell_type": "code",
   "execution_count": null,
   "metadata": {},
   "outputs": [],
   "source": [
    "SCALE = 0.5\n",
    "HEIGHT = 0.14\n",
    "METERS_PER_PIXEL = (0.292/826.36)/SCALE\n",
    "\n",
    "\n",
    "def resize(img):\n",
    "    return cv2.resize(img, None, fx=SCALE, fy=SCALE)\n",
    "\n",
    "\n",
    "cap = cv2.VideoCapture(1)\n",
    "# params for ShiTomasi corner detection\n",
    "feature_params = dict(maxCorners=100,\n",
    "                      qualityLevel=0.3,\n",
    "                      minDistance=7,\n",
    "                      blockSize=7)\n",
    "# Parameters for lucas kanade optical flow\n",
    "lk_params = dict(winSize=(15, 15),\n",
    "                 maxLevel=2,\n",
    "                 criteria=(cv2.TERM_CRITERIA_EPS | cv2.TERM_CRITERIA_COUNT, 10, 0.03))\n",
    "\n",
    "# Create some random colors\n",
    "color = np.random.randint(0, 255, (100, 3))\n",
    "\n",
    "# Take first frame and find corners in it\n",
    "ret, old_frame = cap.read()\n",
    "old_frame = resize(old_frame)\n",
    "old_gray = cv2.cvtColor(old_frame, cv2.COLOR_BGR2GRAY)\n",
    "p0 = cv2.goodFeaturesToTrack(old_gray, mask=None, **feature_params)\n",
    "\n",
    "# Create a mask image for drawing purposes\n",
    "mask = np.zeros_like(old_frame)"
   ]
  },
  {
   "cell_type": "code",
   "execution_count": 26,
   "metadata": {},
   "outputs": [],
   "source": [
    "timestamp = []\n",
    "gyro_x_data = []\n",
    "gyro_y_data = []\n",
    "gyro_z_data = []\n",
    "odometer_left_data = []\n",
    "odometer_right_data = []\n",
    "\n",
    "\n",
    "def data_acquisition(duration):\n",
    "    \n",
    "    print(duration)\n",
    "    global timestamp\n",
    "    global gyro_x_data\n",
    "    global gyro_y_data\n",
    "    global gyro_z_data\n",
    "    global odometer_left_data\n",
    "    global odometer_right_data\n",
    "    \n",
    "    start_time = time.time()\n",
    "    stop_time = start_time + duration\n",
    "    timestamp_time = time.time()\n",
    "    while timestamp_time < stop_time:\n",
    "        timestamp_time = time.time()\n",
    "        gyro_raw_data = gyro.peek_data()\n",
    "        odometer_raw_data = odometer.peek_data()\n",
    "        gyro_x_data.append(gyro_raw_data['x'])\n",
    "        gyro_y_data.append(gyro_raw_data['y'])\n",
    "        gyro_z_data.append(gyro_raw_data['z'])\n",
    "        odometer_left_data.append(odometer_raw_data[1])\n",
    "        odometer_right_data.append(odometer_raw_data[2])\n",
    "        timestamp.append(odometer_raw_data[0])\n",
    "        time.sleep(DELTA_T)"
   ]
  },
  {
   "cell_type": "code",
   "execution_count": 30,
   "metadata": {},
   "outputs": [],
   "source": [
    "diff_x = 0\n",
    "diff_y = 0\n",
    "diffs_x = []\n",
    "diffs_y = []\n",
    "\n",
    "\n",
    "def optical_flow(duration):\n",
    "    print(\"Optical flow thread started\")\n",
    "    global diff_x\n",
    "    global diff_y\n",
    "    start_time = time.time()\n",
    "    stop_time = start_time + duration\n",
    "    timestamp_time = time.time()\n",
    "    \n",
    "    while timestamp_time < stop_time:\n",
    "        timestamp_time = time.time()\n",
    "        ret, frame = cap.read()\n",
    "        if not ret:\n",
    "            break\n",
    "        frame = resize(frame)\n",
    "        frame_gray = cv2.cvtColor(frame, cv2.COLOR_BGR2GRAY)\n",
    "        # calculate optical flow\n",
    "        p1, st, err = cv2.calcOpticalFlowPyrLK(old_gray, frame_gray, p0, None, **lk_params)\n",
    "        # Select good points\n",
    "        good_new = p1[st == 1]\n",
    "        good_old = p0[st == 1]\n",
    "        # draw the tracks\n",
    "        for i, (new, old) in enumerate(zip(good_new, good_old)):\n",
    "            a, b = new.ravel()\n",
    "            c, d = old.ravel()\n",
    "            diff_x += (a - c) / len(good_new)\n",
    "            diff_y += (b - d) / len(good_new)\n",
    "            mask = cv2.line(mask, (a, b), (c, d), color[i].tolist(), 2)\n",
    "            frame = cv2.circle(frame, (a, b), 5, color[i].tolist(), -1)\n",
    "        img = cv2.add(frame, mask)\n",
    "        cv2.imshow('frame', img)\n",
    "        k = cv2.waitKey(30) & 0xff\n",
    "        if k == 27:\n",
    "            break\n",
    "        # Now update the previous frame and previous points\n",
    "        old_gray = frame_gray.copy()\n",
    "        p0 = cv2.goodFeaturesToTrack(frame_gray, mask=None, **feature_params)\n",
    "\n",
    "    print(\"Optical flow thread finished\")"
   ]
  },
  {
   "cell_type": "code",
   "execution_count": 28,
   "metadata": {},
   "outputs": [
    {
     "name": "stdout",
     "output_type": "stream",
     "text": [
      "10\n"
     ]
    },
    {
     "name": "stdout",
     "output_type": "stream",
     "text": [
      "Finish\n"
     ]
    }
   ],
   "source": [
    "speed = 0.1 #m/s\n",
    "\n",
    "timestamp = []\n",
    "gyro_x_data = []\n",
    "gyro_y_data = []\n",
    "gyro_z_data = []\n",
    "odometer_left_data = []\n",
    "odometer_right_data = []\n",
    "\n",
    "duration = 10\n",
    "data_thread = threading.Thread(target=data_acquisition, kwargs={'duration': duration})\n",
    "\n",
    "data_thread.start()\n",
    "robot.general_movement(0.1, 0, duration)\n",
    "data_thread.join()\n",
    "\n",
    "np.savetxt('data/log-{}.txt'.format(str(datetime.now())),\n",
    "           np.vstack((timestamp, gyro_x_data, gyro_y_data, gyro_z_data, odometer_left_data, odometer_right_data)))\n",
    "print(\"Finish\")"
   ]
  },
  {
   "cell_type": "code",
   "execution_count": 13,
   "metadata": {},
   "outputs": [],
   "source": [
    "robot.general_movement(0.4, np.deg2rad(0), 6)"
   ]
  }
 ],
 "metadata": {
  "kernelspec": {
   "display_name": "Python 2",
   "language": "python",
   "name": "python2"
  },
  "language_info": {
   "codemirror_mode": {
    "name": "ipython",
    "version": 2
   },
   "file_extension": ".py",
   "mimetype": "text/x-python",
   "name": "python",
   "nbconvert_exporter": "python",
   "pygments_lexer": "ipython2",
   "version": "2.7.6"
  }
 },
 "nbformat": 4,
 "nbformat_minor": 0
}
