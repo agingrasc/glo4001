{
 "cells": [
  {
   "cell_type": "code",
   "execution_count": null,
   "metadata": {
    "collapsed": true
   },
   "outputs": [],
   "source": [
    "from robmob import robot as rbt\n",
    "from robmob.sensors import GyroSensor, OdometerTicksSensor\n",
    "import cv2\n",
    "import numpy as np\n",
    "\n",
    "import matplotlib.pyplot as plt\n",
    "\n",
    "import time\n",
    "from datetime import datetime"
   ]
  },
  {
   "cell_type": "code",
   "execution_count": null,
   "metadata": {},
   "outputs": [],
   "source": [
    "robot_ip = '192.168.0.100'\n",
    "robot = rbt.Robot(robot_ip)\n",
    "robot.connect()"
   ]
  },
  {
   "cell_type": "code",
   "execution_count": null,
   "metadata": {},
   "outputs": [],
   "source": [
    "DELTA_T = 0.1\n",
    "NUMBER_OF_STEPS = 50\n",
    "\n",
    "gyro = GyroSensor()\n",
    "robot.add_sensor(gyro)\n",
    "print(gyro.peek_data())\n",
    "\n",
    "odometer = OdometerTicksSensor()\n",
    "robot.add_sensor(odometer)\n",
    "print(odometer.peek_data())"
   ]
  },
  {
   "cell_type": "code",
   "execution_count": null,
   "metadata": {},
   "outputs": [],
   "source": [
    "timestamp = []\n",
    "gyro_data = []\n",
    "odometer_data = []\n",
    "\n",
    "for step in range(NUMBER_OF_STEPS):\n",
    "    timestamp.append(step*DELTA_T)\n",
    "    gyro_data.append(gyro.peek_data())\n",
    "    odometer_data.append(odometer.peek_data())\n",
    "    time.sleep(DELTA_T)\n",
    "    \n",
    "np.savetxt('data/log-{}.txt'.format(str(datetime.now())), np.vstack(()))"
   ]
  },
  {
   "cell_type": "code",
   "execution_count": null,
   "metadata": {},
   "outputs": [],
   "source": []
  }
 ],
 "metadata": {
  "kernelspec": {
   "display_name": "Python 2",
   "language": "python",
   "name": "python2"
  },
  "language_info": {
   "codemirror_mode": {
    "name": "ipython",
    "version": 2
   },
   "file_extension": ".py",
   "mimetype": "text/x-python",
   "name": "python",
   "nbconvert_exporter": "python",
   "pygments_lexer": "ipython2",
   "version": "2.7.6"
  }
 },
 "nbformat": 4,
 "nbformat_minor": 0
}
